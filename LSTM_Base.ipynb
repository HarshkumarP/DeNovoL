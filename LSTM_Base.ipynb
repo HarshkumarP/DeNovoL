{
  "cells": [
    {
      "cell_type": "markdown",
      "metadata": {
        "id": "eNHFuACWqhSK"
      },
      "source": [
        "# De-Novo molecule gen\n",
        "\n",
        "This Python notebook creates an AI autoencoder model for learning how to recreate SMILES molecules. The autoencoder is developed using Long Short Term Memory (LSTM) cells.\n",
        "\n",
        "Autoencoder model architecture refrence: https://www.cheminformania.com/master-your-molecule-generator-seq2seq-rnn-models-with-smiles-in-keras/\n",
        "\n",
        "Author: Harshkumar patel(x2020fle@stfx.ca), Milan Mangukiya(x2020flg@stfx.ca)"
      ]
    },
    {
      "cell_type": "code",
      "execution_count": null,
      "metadata": {
        "colab": {
          "base_uri": "https://localhost:8080/"
        },
        "id": "efo1axACqmKV",
        "outputId": "eb8dcb30-4bc1-4d4c-bfef-18036b2e52a9"
      },
      "outputs": [
        {
          "output_type": "stream",
          "name": "stdout",
          "text": [
            "Colab only includes TensorFlow 2.x; %tensorflow_version has no effect.\n",
            "Current TensorFlow version: 2.9.2\n"
          ]
        }
      ],
      "source": [
        "# core libraries \n",
        "import sys\n",
        "import os\n",
        "import pandas as pd\n",
        "import numpy as np\n",
        "import json\n",
        "from sklearn.model_selection import train_test_split\n",
        "import random as rn\n",
        "import matplotlib.pyplot as plt\n",
        "%matplotlib inline\n",
        "\n",
        "%tensorflow_version 2.x\n",
        "import tensorflow as tf\n",
        "print(\"Current TensorFlow version:\", tf.__version__)\n",
        "\n",
        "# Keras libraries\n",
        "from tensorflow.keras.models import Model\n",
        "from tensorflow.keras.layers import Input, LSTM, Dense, Dropout, Concatenate\n",
        "from tensorflow.keras.initializers import RandomNormal\n",
        "from tensorflow.keras import regularizers\n",
        "from tensorflow.keras.optimizers import Adam\n",
        "from tensorflow.keras.callbacks import ReduceLROnPlateau, ModelCheckpoint, TensorBoard\n",
        "from tensorflow.keras.utils import Sequence"
      ]
    },
    {
      "cell_type": "code",
      "execution_count": null,
      "metadata": {
        "colab": {
          "base_uri": "https://localhost:8080/"
        },
        "id": "yWu0on8AVWUx",
        "outputId": "914f4f1f-6919-4f45-9f60-8b1544db1bae"
      },
      "outputs": [
        {
          "output_type": "stream",
          "name": "stdout",
          "text": [
            "Found GPU at: /device:GPU:0\n",
            "Wed Dec 14 17:46:14 2022       \n",
            "+-----------------------------------------------------------------------------+\n",
            "| NVIDIA-SMI 460.32.03    Driver Version: 460.32.03    CUDA Version: 11.2     |\n",
            "|-------------------------------+----------------------+----------------------+\n",
            "| GPU  Name        Persistence-M| Bus-Id        Disp.A | Volatile Uncorr. ECC |\n",
            "| Fan  Temp  Perf  Pwr:Usage/Cap|         Memory-Usage | GPU-Util  Compute M. |\n",
            "|                               |                      |               MIG M. |\n",
            "|===============================+======================+======================|\n",
            "|   0  A100-SXM4-40GB      Off  | 00000000:00:04.0 Off |                    0 |\n",
            "| N/A   31C    P0    50W / 400W |    632MiB / 40536MiB |      4%      Default |\n",
            "|                               |                      |             Disabled |\n",
            "+-------------------------------+----------------------+----------------------+\n",
            "                                                                               \n",
            "+-----------------------------------------------------------------------------+\n",
            "| Processes:                                                                  |\n",
            "|  GPU   GI   CI        PID   Type   Process name                  GPU Memory |\n",
            "|        ID   ID                                                   Usage      |\n",
            "|=============================================================================|\n",
            "+-----------------------------------------------------------------------------+\n"
          ]
        }
      ],
      "source": [
        "# enable the GPU processing in colab\n",
        "device_name = tf.test.gpu_device_name()\n",
        "if device_name != '/device:GPU:0':\n",
        "  raise SystemError('GPU device not found')\n",
        "print('Found GPU at: {}'.format(device_name))\n",
        "gpu_info = !nvidia-smi\n",
        "gpu_info = '\\n'.join(gpu_info)\n",
        "if gpu_info.find('failed') >= 0:\n",
        "  print('Please select the Runtime → \"Change runtime type\" menu to enable a GPU accelerator, ')\n",
        "  print('and then re-execute this cell.')\n",
        "else:\n",
        "  print(gpu_info)"
      ]
    },
    {
      "cell_type": "code",
      "execution_count": null,
      "metadata": {
        "id": "CJP-vJLnWlyK"
      },
      "outputs": [],
      "source": [
        "# fixing random seed\n",
        "seed = 700\n",
        "np.random.seed(seed)\n",
        "rn.seed(seed)\n",
        "tf.random.set_seed(seed)"
      ]
    },
    {
      "cell_type": "code",
      "execution_count": null,
      "metadata": {
        "colab": {
          "base_uri": "https://localhost:8080/"
        },
        "id": "g4591eHKWrRD",
        "outputId": "26c3d85c-60c9-45f3-96f2-14e63f031bfe"
      },
      "outputs": [
        {
          "output_type": "stream",
          "name": "stdout",
          "text": [
            "Drive already mounted at /drive; to attempt to forcibly remount, call drive.mount(\"/drive\", force_remount=True).\n"
          ]
        }
      ],
      "source": [
        "# Google Drive Mounting\n",
        "from google.colab import drive\n",
        "drive.mount('/drive')"
      ]
    },
    {
      "cell_type": "code",
      "execution_count": null,
      "metadata": {
        "id": "drXCRY-sW3Jq"
      },
      "outputs": [],
      "source": [
        "# data load functions for .smi and .json\n",
        "def load_smi(data):\n",
        "    with open(data, 'r') as f:\n",
        "        smiles = [s.rstrip() for s in f]\n",
        "    return np.array(smiles)\n",
        "\n",
        "def load_dict(input_dict):\n",
        "    with open(input_dict, 'r') as fd:\n",
        "        out_dict = json.load(fd)\n",
        "    return out_dict  "
      ]
    },
    {
      "cell_type": "code",
      "execution_count": null,
      "metadata": {
        "colab": {
          "base_uri": "https://localhost:8080/"
        },
        "id": "tgUeN-xyQJjf",
        "outputId": "a3cf6bbe-223f-40ed-b806-bffab18c5e63"
      },
      "outputs": [
        {
          "output_type": "stream",
          "name": "stdout",
          "text": [
            "Training set shape: (1267730,)\n",
            "Testing set shape: (316933,)\n",
            "Sample training smile: \n",
            " COCCOc1cccc(NC(=O)Cc2ccccc2)c1\n",
            "Test file stored to google drive\n",
            "Validation set shape: (126773,)\n"
          ]
        }
      ],
      "source": [
        "# loading datasets & spliting to traning and testing sets\n",
        "# Note: make sure \"next_gen_data\" folder exist in google drive having smiles data\n",
        "smi_data = '/drive/My Drive/next_gen_data/moses.smi'\n",
        "data = load_smi(smi_data)\n",
        "entire_train, test = train_test_split(data, test_size=0.2, random_state=seed)\n",
        "print(\"Training set shape:\", entire_train.shape)\n",
        "print(\"Testing set shape:\", test.shape)\n",
        "print(\"Sample training smile: \\n\", entire_train[0])\n",
        "\n",
        "\n",
        "# store test set for smile generation\n",
        "np.save('/drive/My Drive/next_gen_data/test.npy', test)\n",
        "print('Test file stored to google drive')\n",
        "\n",
        "\n",
        "# validation set for training autoencoder \n",
        "train, val_set = train_test_split(entire_train, test_size= 0.10, random_state=seed)\n",
        "print(\"Validation set shape:\", val_set.shape)"
      ]
    },
    {
      "cell_type": "code",
      "execution_count": null,
      "metadata": {
        "colab": {
          "base_uri": "https://localhost:8080/"
        },
        "id": "_913qyu-YG7U",
        "outputId": "d1703eb3-8729-4790-c1a0-b9b323faf28f"
      },
      "outputs": [
        {
          "output_type": "stream",
          "name": "stdout",
          "text": [
            "Feature/char set length: 45\n",
            "Dict map characters to integers:\n",
            " {'n': 0, '[': 1, '\\\\': 2, 'E': 3, 'H': 4, ')': 5, 'B': 6, '9': 7, '2': 8, ']': 9, '7': 10, '!': 11, 't': 12, 's': 13, 'o': 14, 'c': 15, 'K': 16, '-': 17, '/': 18, 'l': 19, 'A': 20, 'r': 21, '@': 22, 'C': 23, '=': 24, '6': 25, 'N': 26, 'L': 27, 'a': 28, '5': 29, 'S': 30, 'T': 31, '#': 32, '+': 33, 'P': 34, 'i': 35, '(': 36, '8': 37, '1': 38, 'I': 39, 'e': 40, 'O': 41, '3': 42, 'F': 43, '4': 44}\n",
            "Dict map integers to characters:\n",
            " {'0': 'n', '1': '[', '2': '\\\\', '3': 'E', '4': 'H', '5': ')', '6': 'B', '7': '9', '8': '2', '9': ']', '10': '7', '11': '!', '12': 't', '13': 's', '14': 'o', '15': 'c', '16': 'K', '17': '-', '18': '/', '19': 'l', '20': 'A', '21': 'r', '22': '@', '23': 'C', '24': '=', '25': '6', '26': 'N', '27': 'L', '28': 'a', '29': '5', '30': 'S', '31': 'T', '32': '#', '33': '+', '34': 'P', '35': 'i', '36': '(', '37': '8', '38': '1', '39': 'I', '40': 'e', '41': 'O', '42': '3', '43': 'F', '44': '4'}\n"
          ]
        }
      ],
      "source": [
        "# mapping smiles to index and index to smiles back using mapping dict\n",
        "c2i_dict = '/drive/My Drive/next_gen_data/char_to_int.json'\n",
        "i2c_dict = '/drive/My Drive/next_gen_data/int_to_char.json'\n",
        "smi2index = load_dict(c2i_dict)\n",
        "index2smi = load_dict(i2c_dict)\n",
        "n_feature = len(smi2index)\n",
        "print(\"Feature/char set length:\", n_feature)\n",
        "print(\"Dict map characters to integers:\\n\", smi2index)\n",
        "print(\"Dict map integers to characters:\\n\", index2smi)"
      ]
    },
    {
      "cell_type": "code",
      "execution_count": null,
      "metadata": {
        "id": "v8yne-_PYgT3"
      },
      "outputs": [],
      "source": [
        "# add the beginning and ending character markers for running autoencoder in batch mode\n",
        "# add fillers for constant sequence length of 100, and turn the seq2seq of one-hot vectors\n",
        "\n",
        "def vectorize(smiles, padding_len, n_feature):\n",
        "    one_hot = np.zeros((smiles.shape[0], padding_len, n_feature), dtype=np.int8)\n",
        "    for i, smile in enumerate(smiles):\n",
        "        # encoding smiles with '!' as staring symbol\n",
        "        one_hot[i,0,smi2index[\"!\"]] = 1\n",
        "        # one hot encode the smiles characters\n",
        "        for j, c in enumerate(smile):\n",
        "            one_hot[i,j+1,smi2index[c]] = 1\n",
        "        # encoding smiles with 'E' as ending symbol\n",
        "        one_hot[i,len(smile)+1:,smi2index[\"E\"]] = 1\n",
        "    # return two set, one for the input and one for the output\n",
        "    return one_hot[:,0:-1,:], one_hot[:,1:,:]"
      ]
    },
    {
      "cell_type": "code",
      "execution_count": null,
      "metadata": {
        "colab": {
          "base_uri": "https://localhost:8080/"
        },
        "id": "NDjptLnQYw1R",
        "outputId": "736db11e-c513-4f49-ea08-e24e6c4b44ec"
      },
      "outputs": [
        {
          "output_type": "stream",
          "name": "stdout",
          "text": [
            "Train input shape: (1140957, 100, 45)\n",
            "Train output shape: (1140957, 100, 45)\n",
            "Val input shape: (126773, 100, 45)\n",
            "Val output shape: (126773, 100, 45)\n",
            "Test input shape: (316933, 100, 45)\n",
            "Test output shape: (316933, 100, 45)\n"
          ]
        }
      ],
      "source": [
        "# Vectorize train, test and validation set\n",
        "# np.set_printoptions(threshold=sys.maxsize)\n",
        "\n",
        "padding = 101\n",
        "X_train, y_train = vectorize(train, padding, n_feature)\n",
        "\n",
        "X_val, y_val = vectorize(val_set, padding, n_feature)\n",
        "X_test, y_test = vectorize(test, padding, n_feature)\n",
        "print(\"Train input shape:\", X_train.shape)\n",
        "print(\"Train output shape:\", y_train.shape)\n",
        "print(\"Val input shape:\", X_val.shape)\n",
        "print(\"Val output shape:\", y_val.shape)\n",
        "print(\"Test input shape:\", X_test.shape)\n",
        "print(\"Test output shape:\", y_test.shape)"
      ]
    },
    {
      "cell_type": "code",
      "execution_count": null,
      "metadata": {
        "colab": {
          "base_uri": "https://localhost:8080/"
        },
        "id": "MDlm4j2V0jQv",
        "outputId": "bce500ba-a8af-47ff-c2e2-222e46cafa96"
      },
      "outputs": [
        {
          "output_type": "stream",
          "name": "stdout",
          "text": [
            "!Cc1ccc(S(=O)(=O)NCCc2cn3ccccc3n2)c(C)c1EEEEEEEEEEEEEEEEEEEEEEEEEEEEEEEEEEEEEEEEEEEEEEEEEEEEEEEEEEEE\n",
            "Cc1ccc(S(=O)(=O)NCCc2cn3ccccc3n2)c(C)c1EEEEEEEEEEEEEEEEEEEEEEEEEEEEEEEEEEEEEEEEEEEEEEEEEEEEEEEEEEEEE\n"
          ]
        }
      ],
      "source": [
        "# map back to 2 smiles for observation.\n",
        "x=\"\".join([index2smi[str(idx)] for idx in np.argmax(X_train[0,:,:], axis=1)])\n",
        "y=\"\".join([index2smi[str(idx)] for idx in np.argmax(y_train[0,:,:], axis=1)])\n",
        "print(x)\n",
        "print(y)"
      ]
    },
    {
      "cell_type": "code",
      "execution_count": null,
      "metadata": {
        "id": "_4o2i98EY1RM"
      },
      "outputs": [],
      "source": [
        "# LSTM autoencoder model\n",
        "def lstm_autoecoder_model(X, y):\n",
        "    # encoder layers\n",
        "    encoder_input = Input(shape=(X.shape[1:]))\n",
        "    _, state_h, state_c = LSTM(256, return_state=True)(encoder_input)\n",
        "    states = Concatenate(axis=-1)([state_h, state_c])\n",
        "    neck = Dense(128, activation='relu')(states)\n",
        "\n",
        "    # decoder layers\n",
        "    state_h_decoded = Dense(256, activation='relu')(neck)\n",
        "    state_c_decoded = Dense(256, activation='relu')(neck)\n",
        "    encoder_states = [state_h_decoded, state_c_decoded]\n",
        "    decoder_input = Input(shape=(X.shape[1:]))\n",
        "    decoder_lstm = LSTM(256, return_sequences=True)(decoder_input, initial_state=encoder_states)\n",
        "    decoder_output = Dense(y.shape[2], activation='softmax')(decoder_lstm)\n",
        "    \n",
        "    model = Model(inputs=[encoder_input, decoder_input], outputs=decoder_output)   \n",
        "    return model "
      ]
    },
    {
      "cell_type": "code",
      "execution_count": null,
      "metadata": {
        "colab": {
          "base_uri": "https://localhost:8080/"
        },
        "id": "wQlf38jXZEJ3",
        "outputId": "9fb6e931-6cd2-4bb1-e58b-442d3a39d8f7"
      },
      "outputs": [
        {
          "output_type": "stream",
          "name": "stdout",
          "text": [
            "Model: \"model\"\n",
            "__________________________________________________________________________________________________\n",
            " Layer (type)                   Output Shape         Param #     Connected to                     \n",
            "==================================================================================================\n",
            " input_1 (InputLayer)           [(None, 100, 45)]    0           []                               \n",
            "                                                                                                  \n",
            " lstm (LSTM)                    [(None, 256),        309248      ['input_1[0][0]']                \n",
            "                                 (None, 256),                                                     \n",
            "                                 (None, 256)]                                                     \n",
            "                                                                                                  \n",
            " concatenate (Concatenate)      (None, 512)          0           ['lstm[0][1]',                   \n",
            "                                                                  'lstm[0][2]']                   \n",
            "                                                                                                  \n",
            " dense (Dense)                  (None, 128)          65664       ['concatenate[0][0]']            \n",
            "                                                                                                  \n",
            " input_2 (InputLayer)           [(None, 100, 45)]    0           []                               \n",
            "                                                                                                  \n",
            " dense_1 (Dense)                (None, 256)          33024       ['dense[0][0]']                  \n",
            "                                                                                                  \n",
            " dense_2 (Dense)                (None, 256)          33024       ['dense[0][0]']                  \n",
            "                                                                                                  \n",
            " lstm_1 (LSTM)                  (None, 100, 256)     309248      ['input_2[0][0]',                \n",
            "                                                                  'dense_1[0][0]',                \n",
            "                                                                  'dense_2[0][0]']                \n",
            "                                                                                                  \n",
            " dense_3 (Dense)                (None, 100, 45)      11565       ['lstm_1[0][0]']                 \n",
            "                                                                                                  \n",
            "==================================================================================================\n",
            "Total params: 761,773\n",
            "Trainable params: 761,773\n",
            "Non-trainable params: 0\n",
            "__________________________________________________________________________________________________\n",
            "None\n"
          ]
        }
      ],
      "source": [
        "# model make\n",
        "model = lstm_autoecoder_model(X_train, y_train)\n",
        "print(model.summary())"
      ]
    },
    {
      "cell_type": "code",
      "execution_count": null,
      "metadata": {
        "id": "zC1cCnSTZH94"
      },
      "outputs": [],
      "source": [
        "# model compile\n",
        "batch = 256\n",
        "#steps_by_epoch = int(len(X_train) / batch)\n",
        "#print(\"steps per epoch: \",steps_by_epoch)\n",
        "initial_learning_rate = 0.01\n",
        "decay_steps = 1\n",
        "decay_rate = 0.5\n",
        "\n",
        "#learning_rate_fn  = tf.keras.optimizers.schedules.InverseTimeDecay(initial_learning_rate, \n",
        "#                                                                   decay_steps=decay_steps, \n",
        "#                                                                   decay_rate=decay_rate, \n",
        "#                                                                   staircase=False)\n",
        "\n",
        "#opt=Adam(learning_rate = 0.005, beta_1 = 0.9, beta_2 = 0.999, decay=0.05)\n",
        "\n",
        "model.compile(optimizer=Adam(), loss='categorical_crossentropy', metrics=['acc'])"
      ]
    },
    {
      "cell_type": "code",
      "execution_count": null,
      "metadata": {
        "id": "MwVVhWWxeW0Q"
      },
      "outputs": [],
      "source": [
        "# data sequence generator to batch feed the data\n",
        "class DataGenerator(Sequence):\n",
        "    def __init__(self, input_data, labels, batch_size):\n",
        "        self.input_data, self.labels = input_data, labels\n",
        "        self.batch_size = batch_size\n",
        "    \n",
        "    def __len__(self):\n",
        "        return int(np.ceil(len(self.input_data) / float(self.batch_size)))\n",
        "    \n",
        "    def __getitem__(self, idx):\n",
        "        x = self.input_data[idx * self.batch_size:(idx + 1) * self.batch_size]\n",
        "        y = self.labels[idx * self.batch_size:(idx + 1) * self.batch_size]\n",
        "        \n",
        "        batch_x, batch_y = np.array(x), np.array(y)\n",
        "        \n",
        "        return [batch_x, batch_x], batch_y"
      ]
    },
    {
      "cell_type": "code",
      "source": [
        "#  callbacks\n",
        "file=\"/drive/My Drive/next_gen_data/LSTM_Chem_weights-{epoch:02d}-{acc:.4f}-{val_loss:.4f}.hdf5\"\n",
        "checkpoint = ModelCheckpoint(file, monitor='val_loss', verbose=1, save_best_only=True, save_weights_only=True, mode='min')\n",
        "rlrp = ReduceLROnPlateau(monitor='val_loss', factor=0.5, patience=10, min_lr=1e-5)\n",
        "tb = TensorBoard(log_dir=\"/drive/My Drive/next_gen_data/logs/\", histogram_freq=1, write_graph=True, write_images=True)"
      ],
      "metadata": {
        "id": "kL1lL0QNfsLl"
      },
      "execution_count": null,
      "outputs": []
    },
    {
      "cell_type": "code",
      "execution_count": null,
      "metadata": {
        "colab": {
          "base_uri": "https://localhost:8080/"
        },
        "id": "LBVP5GRNgUK-",
        "outputId": "b1310c02-f924-4f22-a23d-de8d35f75b1c"
      },
      "outputs": [
        {
          "output_type": "stream",
          "name": "stdout",
          "text": [
            "Epoch 1/65\n",
            "4457/4457 [==============================] - 91s 19ms/step - loss: 0.3293 - acc: 0.8916 - val_loss: 0.2258 - val_acc: 0.9196\n",
            "Epoch 2/65\n",
            "4457/4457 [==============================] - 87s 19ms/step - loss: 0.1998 - acc: 0.9282 - val_loss: 0.1731 - val_acc: 0.9370\n",
            "Epoch 3/65\n",
            "4457/4457 [==============================] - 87s 20ms/step - loss: 0.1428 - acc: 0.9484 - val_loss: 0.1193 - val_acc: 0.9568\n",
            "Epoch 4/65\n",
            "4457/4457 [==============================] - 87s 19ms/step - loss: 0.1058 - acc: 0.9618 - val_loss: 0.0915 - val_acc: 0.9672\n",
            "Epoch 5/65\n",
            "4457/4457 [==============================] - 87s 20ms/step - loss: 0.0829 - acc: 0.9701 - val_loss: 0.0721 - val_acc: 0.9742\n",
            "Epoch 6/65\n",
            "4457/4457 [==============================] - 87s 20ms/step - loss: 0.0636 - acc: 0.9772 - val_loss: 0.0559 - val_acc: 0.9801\n",
            "Epoch 7/65\n",
            "4457/4457 [==============================] - 87s 19ms/step - loss: 0.0441 - acc: 0.9846 - val_loss: 0.0376 - val_acc: 0.9869\n",
            "Epoch 8/65\n",
            "4457/4457 [==============================] - 87s 20ms/step - loss: 0.0308 - acc: 0.9894 - val_loss: 0.0244 - val_acc: 0.9918\n",
            "Epoch 9/65\n",
            "4457/4457 [==============================] - 87s 20ms/step - loss: 0.0231 - acc: 0.9922 - val_loss: 0.0186 - val_acc: 0.9939\n",
            "Epoch 10/65\n",
            "4457/4457 [==============================] - 87s 19ms/step - loss: 0.0176 - acc: 0.9941 - val_loss: 0.0151 - val_acc: 0.9950\n",
            "Epoch 11/65\n",
            "4457/4457 [==============================] - 87s 20ms/step - loss: 0.0143 - acc: 0.9953 - val_loss: 0.0165 - val_acc: 0.9944\n",
            "Epoch 12/65\n",
            "4457/4457 [==============================] - 87s 20ms/step - loss: 0.0121 - acc: 0.9961 - val_loss: 0.0092 - val_acc: 0.9970\n",
            "Epoch 13/65\n",
            "4457/4457 [==============================] - 87s 20ms/step - loss: 0.0094 - acc: 0.9970 - val_loss: 0.0098 - val_acc: 0.9967\n",
            "Epoch 14/65\n",
            "4457/4457 [==============================] - 87s 20ms/step - loss: 0.0082 - acc: 0.9974 - val_loss: 0.0062 - val_acc: 0.9981\n",
            "Epoch 15/65\n",
            "4457/4457 [==============================] - 87s 19ms/step - loss: 0.0067 - acc: 0.9978 - val_loss: 0.0054 - val_acc: 0.9983\n",
            "Epoch 16/65\n",
            "4457/4457 [==============================] - 87s 19ms/step - loss: 0.0057 - acc: 0.9982 - val_loss: 0.0053 - val_acc: 0.9983\n",
            "Epoch 17/65\n",
            "4457/4457 [==============================] - 87s 19ms/step - loss: 0.0048 - acc: 0.9985 - val_loss: 0.0044 - val_acc: 0.9986\n",
            "Epoch 18/65\n",
            "4457/4457 [==============================] - 87s 19ms/step - loss: 0.0043 - acc: 0.9986 - val_loss: 0.0039 - val_acc: 0.9988\n",
            "Epoch 19/65\n",
            "4457/4457 [==============================] - 87s 19ms/step - loss: 0.0039 - acc: 0.9988 - val_loss: 0.0034 - val_acc: 0.9989\n",
            "Epoch 20/65\n",
            "4457/4457 [==============================] - 87s 19ms/step - loss: 0.0034 - acc: 0.9989 - val_loss: 0.0040 - val_acc: 0.9987\n",
            "Epoch 21/65\n",
            "4457/4457 [==============================] - 87s 19ms/step - loss: 0.0031 - acc: 0.9990 - val_loss: 0.0023 - val_acc: 0.9993\n",
            "Epoch 22/65\n",
            "4457/4457 [==============================] - 87s 19ms/step - loss: 0.0027 - acc: 0.9992 - val_loss: 0.0026 - val_acc: 0.9992\n",
            "Epoch 23/65\n",
            "4457/4457 [==============================] - 87s 19ms/step - loss: 0.0026 - acc: 0.9992 - val_loss: 0.0019 - val_acc: 0.9994\n",
            "Epoch 24/65\n",
            "4457/4457 [==============================] - 87s 20ms/step - loss: 0.0026 - acc: 0.9992 - val_loss: 0.0034 - val_acc: 0.9989\n",
            "Epoch 25/65\n",
            "4457/4457 [==============================] - 87s 20ms/step - loss: 0.0022 - acc: 0.9993 - val_loss: 0.0016 - val_acc: 0.9995\n",
            "Epoch 26/65\n",
            "4457/4457 [==============================] - 87s 20ms/step - loss: 0.0018 - acc: 0.9994 - val_loss: 0.0021 - val_acc: 0.9993\n",
            "Epoch 27/65\n",
            "4457/4457 [==============================] - 87s 19ms/step - loss: 0.0020 - acc: 0.9994 - val_loss: 0.0015 - val_acc: 0.9995\n",
            "Epoch 28/65\n",
            "4457/4457 [==============================] - 87s 19ms/step - loss: 0.0016 - acc: 0.9995 - val_loss: 0.0026 - val_acc: 0.9992\n",
            "Epoch 29/65\n",
            "4457/4457 [==============================] - 87s 19ms/step - loss: 0.0016 - acc: 0.9995 - val_loss: 0.0018 - val_acc: 0.9994\n",
            "Epoch 30/65\n",
            "4457/4457 [==============================] - 87s 20ms/step - loss: 0.0016 - acc: 0.9995 - val_loss: 0.0016 - val_acc: 0.9995\n",
            "Epoch 31/65\n",
            "4457/4457 [==============================] - 87s 19ms/step - loss: 0.0014 - acc: 0.9995 - val_loss: 0.0014 - val_acc: 0.9996\n",
            "Epoch 32/65\n",
            "4457/4457 [==============================] - 87s 20ms/step - loss: 0.0013 - acc: 0.9996 - val_loss: 0.0015 - val_acc: 0.9995\n",
            "Epoch 33/65\n",
            "4457/4457 [==============================] - 87s 19ms/step - loss: 0.0016 - acc: 0.9995 - val_loss: 8.2121e-04 - val_acc: 0.9998\n",
            "Epoch 34/65\n",
            "4457/4457 [==============================] - 87s 19ms/step - loss: 0.0013 - acc: 0.9996 - val_loss: 0.0092 - val_acc: 0.9969\n",
            "Epoch 35/65\n",
            "4457/4457 [==============================] - 87s 20ms/step - loss: 8.3741e-04 - acc: 0.9997 - val_loss: 0.0012 - val_acc: 0.9996\n",
            "Epoch 36/65\n",
            "4457/4457 [==============================] - 87s 19ms/step - loss: 0.0011 - acc: 0.9997 - val_loss: 0.0021 - val_acc: 0.9993\n",
            "Epoch 37/65\n",
            "4457/4457 [==============================] - 87s 20ms/step - loss: 0.0010 - acc: 0.9997 - val_loss: 0.0014 - val_acc: 0.9996\n",
            "Epoch 38/65\n",
            "4457/4457 [==============================] - 87s 19ms/step - loss: 0.0010 - acc: 0.9997 - val_loss: 9.4585e-04 - val_acc: 0.9997\n",
            "Epoch 39/65\n",
            "4457/4457 [==============================] - 87s 19ms/step - loss: 9.2317e-04 - acc: 0.9997 - val_loss: 0.0011 - val_acc: 0.9997\n",
            "Epoch 40/65\n",
            "4457/4457 [==============================] - 87s 20ms/step - loss: 0.0010 - acc: 0.9997 - val_loss: 7.8317e-04 - val_acc: 0.9998\n",
            "Epoch 41/65\n",
            "4457/4457 [==============================] - 87s 20ms/step - loss: 8.1565e-04 - acc: 0.9998 - val_loss: 7.8991e-04 - val_acc: 0.9998\n",
            "Epoch 42/65\n",
            "4457/4457 [==============================] - 87s 19ms/step - loss: 7.8705e-04 - acc: 0.9997 - val_loss: 0.0011 - val_acc: 0.9997\n",
            "Epoch 43/65\n",
            "4457/4457 [==============================] - 87s 19ms/step - loss: 8.3162e-04 - acc: 0.9997 - val_loss: 8.3846e-04 - val_acc: 0.9998\n",
            "Epoch 44/65\n",
            "4457/4457 [==============================] - 87s 20ms/step - loss: 7.2852e-04 - acc: 0.9998 - val_loss: 0.0016 - val_acc: 0.9995\n",
            "Epoch 45/65\n",
            "4457/4457 [==============================] - 87s 19ms/step - loss: 8.2060e-04 - acc: 0.9998 - val_loss: 5.6998e-04 - val_acc: 0.9998\n",
            "Epoch 46/65\n",
            "4457/4457 [==============================] - 87s 19ms/step - loss: 6.2453e-04 - acc: 0.9998 - val_loss: 0.0012 - val_acc: 0.9996\n",
            "Epoch 47/65\n",
            "4457/4457 [==============================] - 87s 19ms/step - loss: 7.5602e-04 - acc: 0.9998 - val_loss: 9.0266e-04 - val_acc: 0.9997\n",
            "Epoch 48/65\n",
            "4457/4457 [==============================] - 87s 19ms/step - loss: 6.5752e-04 - acc: 0.9998 - val_loss: 9.4770e-04 - val_acc: 0.9997\n",
            "Epoch 49/65\n",
            "4457/4457 [==============================] - 87s 19ms/step - loss: 6.3756e-04 - acc: 0.9998 - val_loss: 9.1731e-04 - val_acc: 0.9997\n",
            "Epoch 50/65\n",
            "4457/4457 [==============================] - 87s 19ms/step - loss: 6.4539e-04 - acc: 0.9998 - val_loss: 9.6219e-04 - val_acc: 0.9997\n",
            "Epoch 51/65\n",
            "4457/4457 [==============================] - 87s 20ms/step - loss: 5.9786e-04 - acc: 0.9998 - val_loss: 6.8116e-04 - val_acc: 0.9998\n",
            "Epoch 52/65\n",
            "4457/4457 [==============================] - 87s 20ms/step - loss: 0.0015 - acc: 0.9996 - val_loss: 6.8270e-04 - val_acc: 0.9998\n",
            "Epoch 53/65\n",
            "4457/4457 [==============================] - 87s 19ms/step - loss: 4.0893e-04 - acc: 0.9999 - val_loss: 6.5662e-04 - val_acc: 0.9998\n",
            "Epoch 54/65\n",
            "4457/4457 [==============================] - 87s 19ms/step - loss: 6.1583e-04 - acc: 0.9999 - val_loss: 8.4980e-04 - val_acc: 0.9998\n",
            "Epoch 55/65\n",
            "4457/4457 [==============================] - 87s 19ms/step - loss: 5.7281e-04 - acc: 0.9998 - val_loss: 8.2431e-04 - val_acc: 0.9998\n",
            "Epoch 56/65\n",
            "4457/4457 [==============================] - 87s 19ms/step - loss: 6.5749e-04 - acc: 0.9998 - val_loss: 0.0010 - val_acc: 0.9997\n",
            "Epoch 57/65\n",
            "4457/4457 [==============================] - 87s 20ms/step - loss: 5.4349e-04 - acc: 0.9998 - val_loss: 0.0010 - val_acc: 0.9997\n",
            "Epoch 58/65\n",
            "4457/4457 [==============================] - 87s 20ms/step - loss: 5.2354e-04 - acc: 0.9999 - val_loss: 7.5060e-04 - val_acc: 0.9998\n",
            "Epoch 59/65\n",
            "4457/4457 [==============================] - 87s 20ms/step - loss: 5.3043e-04 - acc: 0.9998 - val_loss: 9.6972e-04 - val_acc: 0.9997\n",
            "Epoch 60/65\n",
            "4457/4457 [==============================] - 87s 20ms/step - loss: 4.9337e-04 - acc: 0.9999 - val_loss: 8.3326e-04 - val_acc: 0.9998\n",
            "Epoch 61/65\n",
            "4457/4457 [==============================] - 87s 19ms/step - loss: 4.8701e-04 - acc: 0.9999 - val_loss: 8.5534e-04 - val_acc: 0.9998\n",
            "Epoch 62/65\n",
            "4457/4457 [==============================] - 87s 20ms/step - loss: 4.9593e-04 - acc: 0.9999 - val_loss: 0.0037 - val_acc: 0.9989\n",
            "Epoch 63/65\n",
            "4457/4457 [==============================] - 87s 20ms/step - loss: 4.4931e-04 - acc: 0.9999 - val_loss: 8.4975e-04 - val_acc: 0.9998\n",
            "Epoch 64/65\n",
            "4457/4457 [==============================] - 88s 20ms/step - loss: 4.5277e-04 - acc: 0.9999 - val_loss: 6.7387e-04 - val_acc: 0.9998\n",
            "Epoch 65/65\n",
            "4457/4457 [==============================] - 87s 20ms/step - loss: 4.4364e-04 - acc: 0.9999 - val_loss: 6.2425e-04 - val_acc: 0.9998\n"
          ]
        }
      ],
      "source": [
        "# fit the model\n",
        "epochs = 65\n",
        "train_gen = DataGenerator(X_train, y_train, batch)\n",
        "val_gen = DataGenerator(X_val, y_val, batch)\n",
        "val_steps = int(len(X_val) / batch)\n",
        "\n",
        "fit_history = model.fit(train_gen,                          \n",
        "                        epochs=epochs, \n",
        "                        verbose=1, \n",
        "                        validation_data=val_gen, \n",
        "                        validation_steps=val_steps, \n",
        "                        use_multiprocessing=False, \n",
        "                        shuffle=True, \n",
        "                        callbacks=[])"
      ]
    },
    {
      "cell_type": "code",
      "execution_count": null,
      "metadata": {
        "id": "fLqW_uJh-_m3",
        "colab": {
          "base_uri": "https://localhost:8080/",
          "height": 352
        },
        "outputId": "b82237d7-8b7f-4826-f371-f625c572d44a"
      },
      "outputs": [
        {
          "output_type": "display_data",
          "data": {
            "text/plain": [
              "<Figure size 1080x360 with 2 Axes>"
            ],
            "image/png": "[encoded data removed]"
          },
          "metadata": {
            "needs_background": "light"
          }
        }
      ],
      "source": [
        "# plot the autoencoder loss and accuracy\n",
        "fig, (axis1, axis2) = plt.subplots(nrows=1, ncols=2, figsize=(15,5))\n",
        "\n",
        "# history for accuracy\n",
        "axis1.plot(fit_history.history[\"acc\"], label='Train', linewidth=3)\n",
        "axis1.plot(fit_history.history[\"val_acc\"], label='Validation', linewidth=3)\n",
        "axis1.set_title('Model accuracy', fontsize=15, color=\"white\")\n",
        "axis1.set_ylabel('Accuracy')\n",
        "axis1.set_xlabel('epoch')\n",
        "axis1.legend(loc='lower right')\n",
        "\n",
        "# history for loss\n",
        "axis2.plot(fit_history.history[\"loss\"], label='Train', linewidth=3)\n",
        "axis2.plot(fit_history.history[\"val_loss\"], label='Validation', linewidth=3)\n",
        "axis2.set_title('Model loss', fontsize=15, color=\"white\")\n",
        "axis2.set_ylabel('Loss')\n",
        "axis2.set_xlabel('epoch')\n",
        "axis2.legend(loc='upper right')\n",
        "plt.show()"
      ]
    },
    {
      "cell_type": "code",
      "execution_count": null,
      "metadata": {
        "id": "EBfj-XzZ_XaC",
        "colab": {
          "base_uri": "https://localhost:8080/"
        },
        "outputId": "05115119-bf3e-4719-a6f2-13ab3abb1d36"
      },
      "outputs": [
        {
          "output_type": "stream",
          "name": "stdout",
          "text": [
            "Test accuracy: 0.9998427033424377\n"
          ]
        }
      ],
      "source": [
        "# get the test score\n",
        "score, acc = model.evaluate([X_test, X_test], y_test, batch_size=batch, verbose=0)\n",
        "print(f'Test accuracy: {acc}')"
      ]
    },
    {
      "cell_type": "code",
      "execution_count": null,
      "metadata": {
        "id": "N42xSd1SI8v8",
        "colab": {
          "base_uri": "https://localhost:8080/"
        },
        "outputId": "007dcf1d-0768-48b3-fd97-8dcb883d8ee0"
      },
      "outputs": [
        {
          "output_type": "stream",
          "name": "stdout",
          "text": [
            "Model stored in google drive\n"
          ]
        }
      ],
      "source": [
        "# save our base model & weights\n",
        "mod_file = '/drive/My Drive/next_gen_data/LSTM_model.h5'\n",
        "model.save(mod_file)\n",
        "print(\"Model stored in google drive\")"
      ]
    }
  ],
  "metadata": {
    "accelerator": "GPU",
    "colab": {
      "machine_shape": "hm",
      "provenance": []
    },
    "gpuClass": "premium",
    "kernelspec": {
      "display_name": "Python 3",
      "name": "python3"
    }
  },
  "nbformat": 4,
  "nbformat_minor": 0
}